{
 "cells": [
  {
   "cell_type": "code",
   "execution_count": 2,
   "metadata": {},
   "outputs": [],
   "source": [
    "from kafka import KafkaProducer\n",
    "from kafka.errors import KafkaError\n",
    "import time\n",
    "import csv\n",
    "import json\n",
    "\n",
    "# Open the CSV  \n",
    "f = open( '/home/cloudera/job_skills.csv', 'rU' )  \n",
    "# Change each fieldname to the appropriate field name. I know, so difficult.  \n",
    "\n",
    "reader = csv.DictReader( f, fieldnames = ( \"company\",\"title\",\"category\",\"location\",\"responsibility\",\"minimum\",\"prefer\" ))\n",
    "\n",
    "\n",
    "\n",
    "#next(reader,None)\n",
    "   \n",
    "\n",
    "# Kafka config\n",
    "producer = KafkaProducer(bootstrap_servers=['localhost:9092'])\n",
    "topic = \"jobs_python\"\n",
    "# Parse the CSV into JSON  \n",
    "#out = json.dumps( [ row for row in reader ] )  \n",
    "for row in reader:\n",
    "    message = json.dumps(row)\n",
    "    producer.send(topic, message)\n",
    "#    time.sleep(1)"
   ]
  },
  {
   "cell_type": "code",
   "execution_count": null,
   "metadata": {
    "collapsed": true
   },
   "outputs": [],
   "source": []
  }
 ],
 "metadata": {
  "kernelspec": {
   "display_name": "Python 2",
   "language": "python",
   "name": "python2"
  },
  "language_info": {
   "codemirror_mode": {
    "name": "ipython",
    "version": 2
   },
   "file_extension": ".py",
   "mimetype": "text/x-python",
   "name": "python",
   "nbconvert_exporter": "python",
   "pygments_lexer": "ipython2",
   "version": "2.7.13"
  }
 },
 "nbformat": 4,
 "nbformat_minor": 2
}
